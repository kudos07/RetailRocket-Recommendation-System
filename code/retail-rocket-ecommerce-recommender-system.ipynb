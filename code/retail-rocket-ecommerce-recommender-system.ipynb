{
 "cells": [
  {
   "cell_type": "markdown",
   "metadata": {
    "_uuid": "055982587a46ea46f93256a5caadf230061706a8"
   },
   "source": [
    "# Objective:\n",
    "    1. Show how the dataset is structured\n",
    "    2. Explore a bit about customer behaviour based on the data and do basic customer segmentation\n",
    "    3. Recommendations for future analysis"
   ]
  },
  {
   "cell_type": "markdown",
   "metadata": {
    "_uuid": "7f5fed00771c9bad34b0258520726ccd5807018d"
   },
   "source": [
    "This dataset was taken from the Retail Rocket Recommender System dataset: https://www.kaggle.com/retailrocket/ecommerce-dataset/home\n",
    "\n",
    "And data was between June 2, 2015 and August 1, 2015"
   ]
  },
  {
   "cell_type": "code",
   "execution_count": 1,
   "metadata": {
    "_uuid": "38e3dd4a9e2e6f0cfedb5cd8bdc720d7d2b3d776"
   },
   "outputs": [],
   "source": [
    "import pandas as pd\n",
    "import numpy as np\n",
    "\n",
    "import datetime \n",
    "import time\n",
    "\n",
    "\n",
    "%matplotlib inline\n",
    "import matplotlib.pyplot as plt \n",
    "import seaborn as sns\n",
    "\n",
    "from sklearn.model_selection import train_test_split\n",
    "from sklearn.linear_model import LogisticRegression\n",
    "from sklearn import metrics"
   ]
  },
  {
   "cell_type": "markdown",
   "metadata": {
    "_uuid": "13fb407d06060546624b5153472ebea6fbc3ef78"
   },
   "source": [
    "Let us load the Retail Rocket CSV files into DataFrames"
   ]
  },
  {
   "cell_type": "code",
   "execution_count": 2,
   "metadata": {
    "_uuid": "ab591308056a8d7b2b2efa753575bc3d35491106"
   },
   "outputs": [],
   "source": [
    "events_df = pd.read_csv('events.csv')\n",
    "category_tree_df = pd.read_csv('category_tree.csv')\n",
    "item_properties_1_df = pd.read_csv('item_properties_part1.csv')\n",
    "item_properties_2_df = pd.read_csv('item_properties_part2.csv')"
   ]
  },
  {
   "cell_type": "markdown",
   "metadata": {
    "_uuid": "fea0c551588b778df96f4942e11190c8e4eddc78"
   },
   "source": [
    "# Let's take a peek at the Events dataframe"
   ]
  },
  {
   "cell_type": "code",
   "execution_count": 3,
   "metadata": {
    "_uuid": "8794df9fbb883e088cbf01939530f6d9537a359d"
   },
   "outputs": [
    {
     "data": {
      "text/html": [
       "<div>\n",
       "<style scoped>\n",
       "    .dataframe tbody tr th:only-of-type {\n",
       "        vertical-align: middle;\n",
       "    }\n",
       "\n",
       "    .dataframe tbody tr th {\n",
       "        vertical-align: top;\n",
       "    }\n",
       "\n",
       "    .dataframe thead th {\n",
       "        text-align: right;\n",
       "    }\n",
       "</style>\n",
       "<table border=\"1\" class=\"dataframe\">\n",
       "  <thead>\n",
       "    <tr style=\"text-align: right;\">\n",
       "      <th></th>\n",
       "      <th>timestamp</th>\n",
       "      <th>visitorid</th>\n",
       "      <th>event</th>\n",
       "      <th>itemid</th>\n",
       "      <th>transactionid</th>\n",
       "    </tr>\n",
       "  </thead>\n",
       "  <tbody>\n",
       "    <tr>\n",
       "      <th>0</th>\n",
       "      <td>1433221332117</td>\n",
       "      <td>257597</td>\n",
       "      <td>view</td>\n",
       "      <td>355908</td>\n",
       "      <td>NaN</td>\n",
       "    </tr>\n",
       "    <tr>\n",
       "      <th>1</th>\n",
       "      <td>1433224214164</td>\n",
       "      <td>992329</td>\n",
       "      <td>view</td>\n",
       "      <td>248676</td>\n",
       "      <td>NaN</td>\n",
       "    </tr>\n",
       "    <tr>\n",
       "      <th>2</th>\n",
       "      <td>1433221999827</td>\n",
       "      <td>111016</td>\n",
       "      <td>view</td>\n",
       "      <td>318965</td>\n",
       "      <td>NaN</td>\n",
       "    </tr>\n",
       "    <tr>\n",
       "      <th>3</th>\n",
       "      <td>1433221955914</td>\n",
       "      <td>483717</td>\n",
       "      <td>view</td>\n",
       "      <td>253185</td>\n",
       "      <td>NaN</td>\n",
       "    </tr>\n",
       "    <tr>\n",
       "      <th>4</th>\n",
       "      <td>1433221337106</td>\n",
       "      <td>951259</td>\n",
       "      <td>view</td>\n",
       "      <td>367447</td>\n",
       "      <td>NaN</td>\n",
       "    </tr>\n",
       "  </tbody>\n",
       "</table>\n",
       "</div>"
      ],
      "text/plain": [
       "       timestamp  visitorid event  itemid  transactionid\n",
       "0  1433221332117     257597  view  355908            NaN\n",
       "1  1433224214164     992329  view  248676            NaN\n",
       "2  1433221999827     111016  view  318965            NaN\n",
       "3  1433221955914     483717  view  253185            NaN\n",
       "4  1433221337106     951259  view  367447            NaN"
      ]
     },
     "execution_count": 3,
     "metadata": {},
     "output_type": "execute_result"
    }
   ],
   "source": [
    "events_df.head()"
   ]
  },
  {
   "cell_type": "markdown",
   "metadata": {
    "_uuid": "c7510ba9c4335f17e58984485f9eac9a0f49a623"
   },
   "source": [
    "The timestamp portion is in Unix Epoch format e.g. 1433221332117 will be converted to Tuesday, 2 June 2015 5:02:12.117 AM GMT\n",
    "\n",
    "Visitor Id is the unique user currently browsing the website\n",
    "\n",
    "Event is what the user is currently doing in that current timestamp\n",
    "\n",
    "Transaction ID will only have value if the user made a purchase as shown below"
   ]
  },
  {
   "cell_type": "code",
   "execution_count": 4,
   "metadata": {
    "_uuid": "36b6433546e9b6d9d10bc9e6a02bbac6844796c8"
   },
   "outputs": [
    {
     "data": {
      "text/plain": [
       "array(['transaction'], dtype=object)"
      ]
     },
     "execution_count": 4,
     "metadata": {},
     "output_type": "execute_result"
    }
   ],
   "source": [
    "#Which event has a value in its transaction id\n",
    "events_df[events_df.transactionid.notnull()].event.unique()"
   ]
  },
  {
   "cell_type": "markdown",
   "metadata": {
    "_uuid": "07f6bca34d671f1aa0527d7a2a463baf230b7ab0"
   },
   "source": [
    "The rest of the events with NaN transaction ids are either view or add to cart"
   ]
  },
  {
   "cell_type": "code",
   "execution_count": 5,
   "metadata": {
    "_uuid": "981d474465c946f4edd0edec66f2cabaf3a5ff76"
   },
   "outputs": [
    {
     "data": {
      "text/plain": [
       "array(['view', 'addtocart'], dtype=object)"
      ]
     },
     "execution_count": 5,
     "metadata": {},
     "output_type": "execute_result"
    }
   ],
   "source": [
    "#Which event/s has a null value\n",
    "events_df[events_df.transactionid.isnull()].event.unique()"
   ]
  },
  {
   "cell_type": "markdown",
   "metadata": {
    "_uuid": "018fbc865d40b25eb298895b8bce33a872004513"
   },
   "source": [
    "# Now let's take a look at the Item Properties"
   ]
  },
  {
   "cell_type": "code",
   "execution_count": 6,
   "metadata": {
    "_uuid": "51f268314f2034a8ca952c9f7481e29f593e47a4"
   },
   "outputs": [
    {
     "data": {
      "text/html": [
       "<div>\n",
       "<style scoped>\n",
       "    .dataframe tbody tr th:only-of-type {\n",
       "        vertical-align: middle;\n",
       "    }\n",
       "\n",
       "    .dataframe tbody tr th {\n",
       "        vertical-align: top;\n",
       "    }\n",
       "\n",
       "    .dataframe thead th {\n",
       "        text-align: right;\n",
       "    }\n",
       "</style>\n",
       "<table border=\"1\" class=\"dataframe\">\n",
       "  <thead>\n",
       "    <tr style=\"text-align: right;\">\n",
       "      <th></th>\n",
       "      <th>timestamp</th>\n",
       "      <th>itemid</th>\n",
       "      <th>property</th>\n",
       "      <th>value</th>\n",
       "    </tr>\n",
       "  </thead>\n",
       "  <tbody>\n",
       "    <tr>\n",
       "      <th>0</th>\n",
       "      <td>1435460400000</td>\n",
       "      <td>460429</td>\n",
       "      <td>categoryid</td>\n",
       "      <td>1338</td>\n",
       "    </tr>\n",
       "    <tr>\n",
       "      <th>1</th>\n",
       "      <td>1441508400000</td>\n",
       "      <td>206783</td>\n",
       "      <td>888</td>\n",
       "      <td>1116713 960601 n277.200</td>\n",
       "    </tr>\n",
       "    <tr>\n",
       "      <th>2</th>\n",
       "      <td>1439089200000</td>\n",
       "      <td>395014</td>\n",
       "      <td>400</td>\n",
       "      <td>n552.000 639502 n720.000 424566</td>\n",
       "    </tr>\n",
       "    <tr>\n",
       "      <th>3</th>\n",
       "      <td>1431226800000</td>\n",
       "      <td>59481</td>\n",
       "      <td>790</td>\n",
       "      <td>n15360.000</td>\n",
       "    </tr>\n",
       "    <tr>\n",
       "      <th>4</th>\n",
       "      <td>1431831600000</td>\n",
       "      <td>156781</td>\n",
       "      <td>917</td>\n",
       "      <td>828513</td>\n",
       "    </tr>\n",
       "  </tbody>\n",
       "</table>\n",
       "</div>"
      ],
      "text/plain": [
       "       timestamp  itemid    property                            value\n",
       "0  1435460400000  460429  categoryid                             1338\n",
       "1  1441508400000  206783         888          1116713 960601 n277.200\n",
       "2  1439089200000  395014         400  n552.000 639502 n720.000 424566\n",
       "3  1431226800000   59481         790                       n15360.000\n",
       "4  1431831600000  156781         917                           828513"
      ]
     },
     "execution_count": 6,
     "metadata": {},
     "output_type": "execute_result"
    }
   ],
   "source": [
    "item_properties_1_df.head()"
   ]
  },
  {
   "cell_type": "markdown",
   "metadata": {
    "_uuid": "5346293d61718861df3f13c69653cb52af89af3c"
   },
   "source": [
    "Timestamp is still the same Unix / Epoch format\n",
    "\n",
    "Item id will be the unique item identifier\n",
    "\n",
    "Property is the Item's attributes such as category id and availability while the rest are hashed for confidentiality purposes\n",
    "\n",
    "Value is the item's property value e.g. availability is 1 if there is stock and 0 otherwise\n",
    "\n",
    "Note: Values that start with \"n\" indicate that the value preceeding it is a number e.g. n277.200 is equal to 277.2"
   ]
  },
  {
   "cell_type": "markdown",
   "metadata": {
    "_uuid": "e94f8c8d6c25e6a090a3e9d4d8bb49253b9fdf09"
   },
   "source": [
    "# Category IDs"
   ]
  },
  {
   "cell_type": "code",
   "execution_count": 7,
   "metadata": {
    "_uuid": "cf2fe53cca8a7e5691296455628dd27e46f27ade"
   },
   "outputs": [
    {
     "data": {
      "text/html": [
       "<div>\n",
       "<style scoped>\n",
       "    .dataframe tbody tr th:only-of-type {\n",
       "        vertical-align: middle;\n",
       "    }\n",
       "\n",
       "    .dataframe tbody tr th {\n",
       "        vertical-align: top;\n",
       "    }\n",
       "\n",
       "    .dataframe thead th {\n",
       "        text-align: right;\n",
       "    }\n",
       "</style>\n",
       "<table border=\"1\" class=\"dataframe\">\n",
       "  <thead>\n",
       "    <tr style=\"text-align: right;\">\n",
       "      <th></th>\n",
       "      <th>categoryid</th>\n",
       "      <th>parentid</th>\n",
       "    </tr>\n",
       "  </thead>\n",
       "  <tbody>\n",
       "    <tr>\n",
       "      <th>0</th>\n",
       "      <td>1016</td>\n",
       "      <td>213.0</td>\n",
       "    </tr>\n",
       "    <tr>\n",
       "      <th>1</th>\n",
       "      <td>809</td>\n",
       "      <td>169.0</td>\n",
       "    </tr>\n",
       "    <tr>\n",
       "      <th>2</th>\n",
       "      <td>570</td>\n",
       "      <td>9.0</td>\n",
       "    </tr>\n",
       "    <tr>\n",
       "      <th>3</th>\n",
       "      <td>1691</td>\n",
       "      <td>885.0</td>\n",
       "    </tr>\n",
       "    <tr>\n",
       "      <th>4</th>\n",
       "      <td>536</td>\n",
       "      <td>1691.0</td>\n",
       "    </tr>\n",
       "  </tbody>\n",
       "</table>\n",
       "</div>"
      ],
      "text/plain": [
       "   categoryid  parentid\n",
       "0        1016     213.0\n",
       "1         809     169.0\n",
       "2         570       9.0\n",
       "3        1691     885.0\n",
       "4         536    1691.0"
      ]
     },
     "execution_count": 7,
     "metadata": {},
     "output_type": "execute_result"
    }
   ],
   "source": [
    "category_tree_df.head()"
   ]
  },
  {
   "cell_type": "markdown",
   "metadata": {
    "_uuid": "618020d4c0fb5deffb5fd02a073b66d6e9cf5110"
   },
   "source": [
    "Category IDs explain the relationship of different products with each other e.g. Category ID 1016 is a child of Parent ID 213.\n",
    "\n",
    "Below shows the number of items under category id 1016"
   ]
  },
  {
   "cell_type": "code",
   "execution_count": 8,
   "metadata": {
    "_uuid": "dc247cae4408b9454cf7e6e70b01fdd1ec88cf02"
   },
   "outputs": [
    {
     "data": {
      "text/html": [
       "<div>\n",
       "<style scoped>\n",
       "    .dataframe tbody tr th:only-of-type {\n",
       "        vertical-align: middle;\n",
       "    }\n",
       "\n",
       "    .dataframe tbody tr th {\n",
       "        vertical-align: top;\n",
       "    }\n",
       "\n",
       "    .dataframe thead th {\n",
       "        text-align: right;\n",
       "    }\n",
       "</style>\n",
       "<table border=\"1\" class=\"dataframe\">\n",
       "  <thead>\n",
       "    <tr style=\"text-align: right;\">\n",
       "      <th></th>\n",
       "      <th>timestamp</th>\n",
       "      <th>itemid</th>\n",
       "      <th>property</th>\n",
       "      <th>value</th>\n",
       "    </tr>\n",
       "  </thead>\n",
       "  <tbody>\n",
       "    <tr>\n",
       "      <th>6363096</th>\n",
       "      <td>1431226800000</td>\n",
       "      <td>339403</td>\n",
       "      <td>categoryid</td>\n",
       "      <td>1016</td>\n",
       "    </tr>\n",
       "    <tr>\n",
       "      <th>8597591</th>\n",
       "      <td>1431226800000</td>\n",
       "      <td>161686</td>\n",
       "      <td>categoryid</td>\n",
       "      <td>1016</td>\n",
       "    </tr>\n",
       "    <tr>\n",
       "      <th>7942027</th>\n",
       "      <td>1431226800000</td>\n",
       "      <td>418837</td>\n",
       "      <td>categoryid</td>\n",
       "      <td>1016</td>\n",
       "    </tr>\n",
       "    <tr>\n",
       "      <th>10230975</th>\n",
       "      <td>1431226800000</td>\n",
       "      <td>85538</td>\n",
       "      <td>categoryid</td>\n",
       "      <td>1016</td>\n",
       "    </tr>\n",
       "    <tr>\n",
       "      <th>7280176</th>\n",
       "      <td>1431226800000</td>\n",
       "      <td>278463</td>\n",
       "      <td>categoryid</td>\n",
       "      <td>1016</td>\n",
       "    </tr>\n",
       "  </tbody>\n",
       "</table>\n",
       "</div>"
      ],
      "text/plain": [
       "              timestamp  itemid    property value\n",
       "6363096   1431226800000  339403  categoryid  1016\n",
       "8597591   1431226800000  161686  categoryid  1016\n",
       "7942027   1431226800000  418837  categoryid  1016\n",
       "10230975  1431226800000   85538  categoryid  1016\n",
       "7280176   1431226800000  278463  categoryid  1016"
      ]
     },
     "execution_count": 8,
     "metadata": {},
     "output_type": "execute_result"
    }
   ],
   "source": [
    "item_properties_1_df.loc[(item_properties_1_df.property == 'categoryid') & (item_properties_1_df.value == '1016')].sort_values('timestamp').head()"
   ]
  },
  {
   "cell_type": "markdown",
   "metadata": {
    "_uuid": "964ce42f268d35c1df82e6fef94275dbb155d516"
   },
   "source": [
    "# Customer behaviour exploration"
   ]
  },
  {
   "cell_type": "markdown",
   "metadata": {
    "_uuid": "21a7efb9cc3a7ec9556e4cad977027ad12447c05"
   },
   "source": [
    "I think it's prudent to start separating customers into two categories, those who purchased something and those who didn't"
   ]
  },
  {
   "cell_type": "code",
   "execution_count": 9,
   "metadata": {
    "_uuid": "21793ec8647aced697a135ceb338183648a105f5"
   },
   "outputs": [
    {
     "data": {
      "text/plain": [
       "11719"
      ]
     },
     "execution_count": 9,
     "metadata": {},
     "output_type": "execute_result"
    }
   ],
   "source": [
    "#Let's get all the customers who bought something\n",
    "customer_purchased = events_df[events_df.transactionid.notnull()].visitorid.unique()\n",
    "customer_purchased.size"
   ]
  },
  {
   "cell_type": "markdown",
   "metadata": {
    "_uuid": "3af2e4980ecc30562ef4e366751e4686ca727fbe"
   },
   "source": [
    "Assumptions:\n",
    "    1. Since we have no information whether there were any repeat users who bought something from the site, I'll just have to assume for now that the 11,719 visitors are unique and made at least a single purchase"
   ]
  },
  {
   "cell_type": "code",
   "execution_count": 10,
   "metadata": {
    "_uuid": "4207f33766e1418cb44331fa3bea221f271eba09"
   },
   "outputs": [
    {
     "data": {
      "text/plain": [
       "1407580"
      ]
     },
     "execution_count": 10,
     "metadata": {},
     "output_type": "execute_result"
    }
   ],
   "source": [
    "#Let's get all unique visitor ids as well\n",
    "all_customers = events_df.visitorid.unique()\n",
    "all_customers.size"
   ]
  },
  {
   "cell_type": "markdown",
   "metadata": {
    "_uuid": "5ba2768cb128af4fd9ce7992a624b13252ec8e29"
   },
   "source": [
    "Out of 1,407,580 unique visitor ids, let's take out the ones that bought something"
   ]
  },
  {
   "cell_type": "code",
   "execution_count": 11,
   "metadata": {
    "_uuid": "cbbc9ab4ba3d721b50d99abfe155b0e841924e71"
   },
   "outputs": [],
   "source": [
    "customer_browsed = [x for x in all_customers if x not in customer_purchased]"
   ]
  },
  {
   "cell_type": "code",
   "execution_count": 12,
   "metadata": {
    "_uuid": "16e23d8b72bb6c98eeffac4fb844e2cfb4d465bc"
   },
   "outputs": [
    {
     "data": {
      "text/plain": [
       "1395861"
      ]
     },
     "execution_count": 12,
     "metadata": {},
     "output_type": "execute_result"
    }
   ],
   "source": [
    "len(customer_browsed)"
   ]
  },
  {
   "cell_type": "markdown",
   "metadata": {
    "_uuid": "f7f839ce25d87c2b84abdbf9285994cd11eecc0d"
   },
   "source": [
    "So there were actually 1,395,861 unique site visitors who didn't buy anything, again assuming that there were no repeat users with different visitor IDs"
   ]
  },
  {
   "cell_type": "code",
   "execution_count": 13,
   "metadata": {
    "_uuid": "768e40b6ac35ca07de2351f64229bac182773797"
   },
   "outputs": [
    {
     "data": {
      "text/plain": [
       "1395861"
      ]
     },
     "execution_count": 13,
     "metadata": {},
     "output_type": "execute_result"
    }
   ],
   "source": [
    "#Another way to do it using Numpy\n",
    "temp_array = np.isin(customer_browsed, customer_purchased)\n",
    "temp_array[temp_array == False].size"
   ]
  },
  {
   "cell_type": "code",
   "execution_count": 14,
   "metadata": {
    "_uuid": "89b2fc710737ff435ec6f208dbfb936108724678"
   },
   "outputs": [
    {
     "data": {
      "text/plain": [
       "array([ 599528,  121688,  552148,  102019,  189384,  350566,  404403,\n",
       "        505565,  945184, 1406787], dtype=int64)"
      ]
     },
     "execution_count": 14,
     "metadata": {},
     "output_type": "execute_result"
    }
   ],
   "source": [
    "#A sample list of the customers who bought something\n",
    "customer_purchased[:10]"
   ]
  },
  {
   "cell_type": "markdown",
   "metadata": {
    "_uuid": "8304011769d573da35356581431f3e204253b7c6"
   },
   "source": [
    "# Below is a snapshot of visitor id 102019 and their buying journey from viewing to transaction (purchase)"
   ]
  },
  {
   "cell_type": "code",
   "execution_count": 15,
   "metadata": {
    "_uuid": "d5a5271d67327bb2acdd68ffe74ca5d623572538"
   },
   "outputs": [
    {
     "data": {
      "text/html": [
       "<div>\n",
       "<style scoped>\n",
       "    .dataframe tbody tr th:only-of-type {\n",
       "        vertical-align: middle;\n",
       "    }\n",
       "\n",
       "    .dataframe tbody tr th {\n",
       "        vertical-align: top;\n",
       "    }\n",
       "\n",
       "    .dataframe thead th {\n",
       "        text-align: right;\n",
       "    }\n",
       "</style>\n",
       "<table border=\"1\" class=\"dataframe\">\n",
       "  <thead>\n",
       "    <tr style=\"text-align: right;\">\n",
       "      <th></th>\n",
       "      <th>timestamp</th>\n",
       "      <th>visitorid</th>\n",
       "      <th>event</th>\n",
       "      <th>itemid</th>\n",
       "      <th>transactionid</th>\n",
       "    </tr>\n",
       "  </thead>\n",
       "  <tbody>\n",
       "    <tr>\n",
       "      <th>19690</th>\n",
       "      <td>1433175714335</td>\n",
       "      <td>102019</td>\n",
       "      <td>view</td>\n",
       "      <td>49521</td>\n",
       "      <td>NaN</td>\n",
       "    </tr>\n",
       "    <tr>\n",
       "      <th>19501</th>\n",
       "      <td>1433175801314</td>\n",
       "      <td>102019</td>\n",
       "      <td>addtocart</td>\n",
       "      <td>49521</td>\n",
       "      <td>NaN</td>\n",
       "    </tr>\n",
       "    <tr>\n",
       "      <th>14842</th>\n",
       "      <td>1433175812596</td>\n",
       "      <td>102019</td>\n",
       "      <td>view</td>\n",
       "      <td>150318</td>\n",
       "      <td>NaN</td>\n",
       "    </tr>\n",
       "    <tr>\n",
       "      <th>19573</th>\n",
       "      <td>1433175871497</td>\n",
       "      <td>102019</td>\n",
       "      <td>view</td>\n",
       "      <td>49521</td>\n",
       "      <td>NaN</td>\n",
       "    </tr>\n",
       "    <tr>\n",
       "      <th>8701</th>\n",
       "      <td>1433175894837</td>\n",
       "      <td>102019</td>\n",
       "      <td>view</td>\n",
       "      <td>49521</td>\n",
       "      <td>NaN</td>\n",
       "    </tr>\n",
       "    <tr>\n",
       "      <th>19708</th>\n",
       "      <td>1433175945872</td>\n",
       "      <td>102019</td>\n",
       "      <td>view</td>\n",
       "      <td>150318</td>\n",
       "      <td>NaN</td>\n",
       "    </tr>\n",
       "    <tr>\n",
       "      <th>8740</th>\n",
       "      <td>1433176042269</td>\n",
       "      <td>102019</td>\n",
       "      <td>view</td>\n",
       "      <td>49521</td>\n",
       "      <td>NaN</td>\n",
       "    </tr>\n",
       "    <tr>\n",
       "      <th>814</th>\n",
       "      <td>1433176736375</td>\n",
       "      <td>102019</td>\n",
       "      <td>transaction</td>\n",
       "      <td>150318</td>\n",
       "      <td>13556.0</td>\n",
       "    </tr>\n",
       "    <tr>\n",
       "      <th>19724</th>\n",
       "      <td>1433176736422</td>\n",
       "      <td>102019</td>\n",
       "      <td>transaction</td>\n",
       "      <td>49521</td>\n",
       "      <td>13556.0</td>\n",
       "    </tr>\n",
       "  </tbody>\n",
       "</table>\n",
       "</div>"
      ],
      "text/plain": [
       "           timestamp  visitorid        event  itemid  transactionid\n",
       "19690  1433175714335     102019         view   49521            NaN\n",
       "19501  1433175801314     102019    addtocart   49521            NaN\n",
       "14842  1433175812596     102019         view  150318            NaN\n",
       "19573  1433175871497     102019         view   49521            NaN\n",
       "8701   1433175894837     102019         view   49521            NaN\n",
       "19708  1433175945872     102019         view  150318            NaN\n",
       "8740   1433176042269     102019         view   49521            NaN\n",
       "814    1433176736375     102019  transaction  150318        13556.0\n",
       "19724  1433176736422     102019  transaction   49521        13556.0"
      ]
     },
     "execution_count": 15,
     "metadata": {},
     "output_type": "execute_result"
    }
   ],
   "source": [
    "events_df[events_df.visitorid == 102019].sort_values('timestamp')"
   ]
  },
  {
   "cell_type": "markdown",
   "metadata": {
    "_uuid": "653d1195c7007321fb4ff9a7c0044b349a38d233"
   },
   "source": [
    "If we want to convert the UNIX / Epoch time format to readable format then just do the code below"
   ]
  },
  {
   "cell_type": "code",
   "execution_count": 16,
   "metadata": {
    "_uuid": "33caeb2b61fc9dbed116c8ddf67d3c0a9a2905e1"
   },
   "outputs": [
    {
     "data": {
      "text/plain": [
       "'2015-06-02 01:02:12'"
      ]
     },
     "execution_count": 16,
     "metadata": {},
     "output_type": "execute_result"
    }
   ],
   "source": [
    "tz = int('1433221332')\n",
    "new_time = datetime.datetime.fromtimestamp(tz)\n",
    "new_time.strftime('%Y-%m-%d %H:%M:%S')"
   ]
  },
  {
   "cell_type": "code",
   "execution_count": 17,
   "metadata": {
    "_uuid": "abd4495b2f8bdd63b29c2333cc6604c9bcf544e8"
   },
   "outputs": [
    {
     "data": {
      "text/plain": [
       "'2015-07-31 23:36:03'"
      ]
     },
     "execution_count": 17,
     "metadata": {},
     "output_type": "execute_result"
    }
   ],
   "source": [
    "tz = int('1438400163')\n",
    "new_time = datetime.datetime.fromtimestamp(tz)\n",
    "new_time.strftime('%Y-%m-%d %H:%M:%S')"
   ]
  },
  {
   "cell_type": "markdown",
   "metadata": {
    "_uuid": "d0c8670089763310ce470ef154f1ec34145bbcee"
   },
   "source": [
    "# What insights can we offer the visitor to guide them in their buying journey?\n",
    "\n",
    "-perhaps we can offer them a list of what previous visitors bought together with the item they are currently viewing"
   ]
  },
  {
   "cell_type": "code",
   "execution_count": 18,
   "metadata": {
    "_uuid": "c72c8e8126c155ba65072a82c577312c5faadf8d"
   },
   "outputs": [],
   "source": [
    "# Firstly let's create an array that lists visitors who made a purchase\n",
    "customer_purchased = events_df[events_df.transactionid.notnull()].visitorid.unique()\n",
    "    \n",
    "purchased_items = []\n",
    "    \n",
    "# Create another list that contains all their purchases \n",
    "for customer in customer_purchased:\n",
    "\n",
    "    #Generate a Pandas series type object containing all the visitor's purchases and put them in the list\n",
    "    purchased_items.append(list(events_df.loc[(events_df.visitorid == customer) & (events_df.transactionid.notnull())].itemid.values))                                  "
   ]
  },
  {
   "cell_type": "markdown",
   "metadata": {
    "_uuid": "ac9983b2199612a6e17ed3e5643af71594433b6f"
   },
   "source": [
    "So now all items purchased together are presented as a list of lists, shown below are the first 5 samples"
   ]
  },
  {
   "cell_type": "code",
   "execution_count": 19,
   "metadata": {
    "_uuid": "2fe00d80f44a6d25e0b47e4d8485ee1d8a4fe6dc"
   },
   "outputs": [
    {
     "data": {
      "text/plain": [
       "[[356475],\n",
       " [15335,\n",
       "  380775,\n",
       "  237753,\n",
       "  317178,\n",
       "  12836,\n",
       "  400969,\n",
       "  105792,\n",
       "  25353,\n",
       "  200793,\n",
       "  80582,\n",
       "  302422],\n",
       " [81345],\n",
       " [150318, 49521],\n",
       " [310791, 299044]]"
      ]
     },
     "execution_count": 19,
     "metadata": {},
     "output_type": "execute_result"
    }
   ],
   "source": [
    "purchased_items[:5]"
   ]
  },
  {
   "cell_type": "code",
   "execution_count": 20,
   "metadata": {
    "_uuid": "ad173031c7cd82cf2c31922e053380ed88881dc6"
   },
   "outputs": [],
   "source": [
    "# Write a function that would show items that were bought together (same of different dates) by the same customer\n",
    "def recommender_bought_bought(item_id, purchased_items):\n",
    "    \n",
    "    # Perhaps implement a binary search for that item id in the list of arrays\n",
    "    # Then put the arrays containing that item id in a new list\n",
    "    # Then merge all items in that list and get rid of duplicates\n",
    "    recommender_list = []\n",
    "    for x in purchased_items:\n",
    "        if item_id in x:\n",
    "            recommender_list += x\n",
    "    \n",
    "    #Then merge recommender list and remove the item id\n",
    "    recommender_list = list(set(recommender_list) - set([item_id]))\n",
    "    \n",
    "    return recommender_list"
   ]
  },
  {
   "cell_type": "markdown",
   "metadata": {
    "_uuid": "8e4f743909afccb96cf93636e277dc1ff8fd636b"
   },
   "source": [
    "# So now we can present to the visitor a list of the other items a customer previously bought along with what item the current visitor is viewing e.g. item number 302422"
   ]
  },
  {
   "cell_type": "code",
   "execution_count": 21,
   "metadata": {
    "_uuid": "126e573f99f365c8272ffcd34edce5e1af75b802"
   },
   "outputs": [
    {
     "data": {
      "text/plain": [
       "[105792, 200793, 12836, 80582, 380775, 15335, 400969, 25353, 237753, 317178]"
      ]
     },
     "execution_count": 21,
     "metadata": {},
     "output_type": "execute_result"
    }
   ],
   "source": [
    "recommender_bought_bought(302422, purchased_items)"
   ]
  },
  {
   "cell_type": "markdown",
   "metadata": {
    "_uuid": "a822a1ed3939e3b283e845c46775284d457950c8"
   },
   "source": [
    "That was a very crude way of recommending other items to the visitor"
   ]
  },
  {
   "cell_type": "markdown",
   "metadata": {
    "_uuid": "1b94d6216558f4dc53600de762c20498da058f7d"
   },
   "source": [
    "# What other insights can we gather from the items that were viewed, added to cart and sold?"
   ]
  },
  {
   "cell_type": "markdown",
   "metadata": {
    "_uuid": "136db37261056f929fb409895cac1aee2e82b6e7"
   },
   "source": [
    "# Can we perhaps cluster the visitors and see if classes appear?\n",
    "\n",
    "For that I will need to create a new dataframe and engineer a few features for it"
   ]
  },
  {
   "cell_type": "markdown",
   "metadata": {
    "_uuid": "5859eeb2e879f219f656e4a6ae5a694a57055601"
   },
   "source": [
    "How many unique visitors did we have for the site from June 2, 2015 to August 1, 2015?\n",
    "\n",
    "Shown below are the total number of visitors for that time duration (was also shown at the close to the start of this paper)"
   ]
  },
  {
   "cell_type": "code",
   "execution_count": 22,
   "metadata": {
    "_uuid": "db866fba2773c7ead76c119b7a474b7eff011daf"
   },
   "outputs": [
    {
     "data": {
      "text/plain": [
       "1407580"
      ]
     },
     "execution_count": 22,
     "metadata": {},
     "output_type": "execute_result"
    }
   ],
   "source": [
    "#Put all the visitor id in an array and sort it ascendingly\n",
    "all_visitors = events_df.visitorid.sort_values().unique()\n",
    "all_visitors.size"
   ]
  },
  {
   "cell_type": "code",
   "execution_count": 23,
   "metadata": {
    "_uuid": "1515dff17fcb03663ab1cdc5790c54cb71fc3c51"
   },
   "outputs": [
    {
     "data": {
      "text/plain": [
       "11719"
      ]
     },
     "execution_count": 23,
     "metadata": {},
     "output_type": "execute_result"
    }
   ],
   "source": [
    "buying_visitors = events_df[events_df.event == 'transaction'].visitorid.sort_values().unique()\n",
    "buying_visitors.size"
   ]
  },
  {
   "cell_type": "markdown",
   "metadata": {
    "_uuid": "d161f24f753483f53648c8238a94cc191301bf57"
   },
   "source": [
    "Out of 1,407,580 visitors, ony 11,719 bought something so around 1,395,861 visitors just viewed items"
   ]
  },
  {
   "cell_type": "code",
   "execution_count": 24,
   "metadata": {
    "_uuid": "cc6155c57a6d583f791f1374f4121a61f6d68a38"
   },
   "outputs": [],
   "source": [
    "viewing_visitors_list = list(set(all_visitors) - set(buying_visitors))\n"
   ]
  },
  {
   "cell_type": "markdown",
   "metadata": {
    "_uuid": "7995321edc13edfef2bdd964e6378eea8db42071"
   },
   "source": [
    "Now lets create a function that creates a dataframe with new features: visitorid, number of items viewed, total viewcount, bought something or not"
   ]
  },
  {
   "cell_type": "code",
   "execution_count": 25,
   "metadata": {
    "_uuid": "0ed8a26e3508cd9d4481245aaab2c8288594502a"
   },
   "outputs": [],
   "source": [
    "def create_dataframe(visitor_list):\n",
    "    \n",
    "    array_for_df = []\n",
    "    for index in visitor_list:\n",
    "\n",
    "        #Create that visitor's dataframe once\n",
    "        v_df = events_df[events_df.visitorid == index]\n",
    "\n",
    "        temp = []\n",
    "        #Add the visitor id\n",
    "        temp.append(index)\n",
    "\n",
    "        #Add the total number of unique products viewed\n",
    "        temp.append(v_df[v_df.event == 'view'].itemid.unique().size)\n",
    "\n",
    "        #Add the total number of views regardless of product type\n",
    "        temp.append(v_df[v_df.event == 'view'].event.count())\n",
    "\n",
    "        #Add the total number of purchases\n",
    "        number_of_items_bought = v_df[v_df.event == 'transaction'].event.count()\n",
    "        temp.append(number_of_items_bought)\n",
    "\n",
    "        #Then put either a zero or one if they made a purchase\n",
    "        if(number_of_items_bought == 0):\n",
    "            temp.append(0)\n",
    "        else:\n",
    "            temp.append(1)\n",
    "\n",
    "        array_for_df.append(temp)\n",
    "    \n",
    "    return pd.DataFrame(array_for_df, columns=['visitorid', 'num_items_viewed', 'view_count', 'bought_count', 'purchased'])"
   ]
  },
  {
   "cell_type": "markdown",
   "metadata": {
    "_uuid": "a3cfdac3465005deca40175fca10f40aac018d18"
   },
   "source": [
    "Let's apply this to buying visitors first"
   ]
  },
  {
   "cell_type": "code",
   "execution_count": 26,
   "metadata": {
    "_uuid": "da63e3adb439acc59c29b58d0f2b6fa161c84d7a"
   },
   "outputs": [],
   "source": [
    "buying_visitors_df = create_dataframe(buying_visitors)"
   ]
  },
  {
   "cell_type": "code",
   "execution_count": 27,
   "metadata": {
    "_uuid": "74440b541820313173618b4250bb6fc75e3cb2b6"
   },
   "outputs": [
    {
     "data": {
      "text/plain": [
       "(11719, 5)"
      ]
     },
     "execution_count": 27,
     "metadata": {},
     "output_type": "execute_result"
    }
   ],
   "source": [
    "buying_visitors_df.shape"
   ]
  },
  {
   "cell_type": "markdown",
   "metadata": {
    "_uuid": "d1254b5cd5e39e6e7c80ba86175be372ef1935ae"
   },
   "source": [
    "I think I'll only get around 27,821 samples from the viewing visitors list so that there is a 70-30 split for training and test data. "
   ]
  },
  {
   "cell_type": "code",
   "execution_count": 28,
   "metadata": {
    "_uuid": "d824087c811fd35f2809caf58e1492879d876b92",
    "scrolled": true
   },
   "outputs": [],
   "source": [
    "#Let's shuffle the viewing visitors list for randomness\n",
    "import random\n",
    "random.shuffle(viewing_visitors_list)"
   ]
  },
  {
   "cell_type": "code",
   "execution_count": 29,
   "metadata": {
    "_uuid": "6df69e02bda97255b57f122cee95504a7b12a887"
   },
   "outputs": [],
   "source": [
    "viewing_visitors_df = create_dataframe(viewing_visitors_list[0:27820])"
   ]
  },
  {
   "cell_type": "code",
   "execution_count": 30,
   "metadata": {
    "_uuid": "9b4e233095f68a709c24797849f922edd0081763"
   },
   "outputs": [
    {
     "data": {
      "text/plain": [
       "(27820, 5)"
      ]
     },
     "execution_count": 30,
     "metadata": {},
     "output_type": "execute_result"
    }
   ],
   "source": [
    "viewing_visitors_df.shape"
   ]
  },
  {
   "cell_type": "markdown",
   "metadata": {
    "_uuid": "0c1efb09b5e3a11121c7db2ef0223357c0ce0e15"
   },
   "source": [
    "Now let's combine the two dataframes"
   ]
  },
  {
   "cell_type": "code",
   "execution_count": 31,
   "metadata": {
    "_uuid": "d89280a1ed5bcba848b52227c1e0f4c2925a6094"
   },
   "outputs": [],
   "source": [
    "main_df = pd.concat([buying_visitors_df, viewing_visitors_df], ignore_index=True)"
   ]
  },
  {
   "cell_type": "markdown",
   "metadata": {
    "_uuid": "3deb6f42f516bea606c9158ec127c3a68c430337"
   },
   "source": [
    "Let's plot main_df and see if anything comes up"
   ]
  },
  {
   "cell_type": "code",
   "execution_count": 32,
   "metadata": {
    "_uuid": "e6cdf7de37aa91c607625c0f92e76ab634a59633"
   },
   "outputs": [],
   "source": [
    "#Let's shuffle main_df first\n",
    "main_df = main_df.sample(frac=1)"
   ]
  },
  {
   "cell_type": "code",
   "execution_count": 33,
   "metadata": {
    "_uuid": "41f454dc2d3ae80f3f3cb312e62554d895fff5b6"
   },
   "outputs": [
    {
     "name": "stderr",
     "output_type": "stream",
     "text": [
      "c:\\Users\\saran\\anaconda3\\Lib\\site-packages\\seaborn\\axisgrid.py:118: UserWarning: The figure layout has changed to tight\n",
      "  self._figure.tight_layout(*args, **kwargs)\n"
     ]
    },
    {
     "data": {
      "text/plain": [
       "<seaborn.axisgrid.PairGrid at 0x1a50a99b590>"
      ]
     },
     "execution_count": 33,
     "metadata": {},
     "output_type": "execute_result"
    },
    {
     "data": {
      "image/png": "[encoded data removed]",
      "text/plain": [
       "<Figure size 833.736x750 with 12 Axes>"
      ]
     },
     "metadata": {},
     "output_type": "display_data"
    }
   ],
   "source": [
    "#Plot the data\n",
    "sns.pairplot(main_df, x_vars = ['num_items_viewed', 'view_count', 'bought_count'],\n",
    "             y_vars = ['num_items_viewed', 'view_count', 'bought_count'],  hue = 'purchased')"
   ]
  },
  {
   "cell_type": "markdown",
   "metadata": {
    "_uuid": "098602891195d003637864322624561bdaac89ff"
   },
   "source": [
    "The plot above clearly indicates that the higher the view count, the higher the chances of that visitor buying something. Duh!"
   ]
  },
  {
   "cell_type": "markdown",
   "metadata": {
    "_uuid": "d717d128266cbcf7e2a8ad912a8f4c148c3555a9"
   },
   "source": [
    "# Since the relationship is Linear, let's try a simple Logistic Regression model to predict future visitor purchase behaviour"
   ]
  },
  {
   "cell_type": "markdown",
   "metadata": {
    "_uuid": "9dec9c1db83bf1b27c2b49fead0de5cd0cf09a91"
   },
   "source": [
    "We separate the features (drop visitorid since it's categorical data and bought count) and the target (which is whether the visitor bought something or not)"
   ]
  },
  {
   "cell_type": "code",
   "execution_count": 34,
   "metadata": {
    "_uuid": "1e0a989b52bf8a278b1180a457cf5345636a91fa"
   },
   "outputs": [],
   "source": [
    "X = main_df.drop(['purchased', 'visitorid', 'bought_count'], axis = 'columns')\n",
    "y = main_df.purchased"
   ]
  },
  {
   "cell_type": "code",
   "execution_count": 35,
   "metadata": {
    "_uuid": "92c543b2c1496089ad4696c70c8753430cb86908"
   },
   "outputs": [],
   "source": [
    "X_train, X_test, y_train, y_test = train_test_split(X, y, random_state = 42, train_size = 0.7)"
   ]
  },
  {
   "cell_type": "code",
   "execution_count": 36,
   "metadata": {
    "_uuid": "5418139f6bef514646c6222f8115826e0f4b607c"
   },
   "outputs": [],
   "source": [
    "logreg = LogisticRegression()"
   ]
  },
  {
   "cell_type": "code",
   "execution_count": 37,
   "metadata": {
    "_uuid": "44c213c6d1d72552d6faabd8ccbaeedba6abf605"
   },
   "outputs": [
    {
     "data": {
      "text/html": [
       "<style>#sk-container-id-1 {color: black;}#sk-container-id-1 pre{padding: 0;}#sk-container-id-1 div.sk-toggleable {background-color: white;}#sk-container-id-1 label.sk-toggleable__label {cursor: pointer;display: block;width: 100%;margin-bottom: 0;padding: 0.3em;box-sizing: border-box;text-align: center;}#sk-container-id-1 label.sk-toggleable__label-arrow:before {content: \"▸\";float: left;margin-right: 0.25em;color: #696969;}#sk-container-id-1 label.sk-toggleable__label-arrow:hover:before {color: black;}#sk-container-id-1 div.sk-estimator:hover label.sk-toggleable__label-arrow:before {color: black;}#sk-container-id-1 div.sk-toggleable__content {max-height: 0;max-width: 0;overflow: hidden;text-align: left;background-color: #f0f8ff;}#sk-container-id-1 div.sk-toggleable__content pre {margin: 0.2em;color: black;border-radius: 0.25em;background-color: #f0f8ff;}#sk-container-id-1 input.sk-toggleable__control:checked~div.sk-toggleable__content {max-height: 200px;max-width: 100%;overflow: auto;}#sk-container-id-1 input.sk-toggleable__control:checked~label.sk-toggleable__label-arrow:before {content: \"▾\";}#sk-container-id-1 div.sk-estimator input.sk-toggleable__control:checked~label.sk-toggleable__label {background-color: #d4ebff;}#sk-container-id-1 div.sk-label input.sk-toggleable__control:checked~label.sk-toggleable__label {background-color: #d4ebff;}#sk-container-id-1 input.sk-hidden--visually {border: 0;clip: rect(1px 1px 1px 1px);clip: rect(1px, 1px, 1px, 1px);height: 1px;margin: -1px;overflow: hidden;padding: 0;position: absolute;width: 1px;}#sk-container-id-1 div.sk-estimator {font-family: monospace;background-color: #f0f8ff;border: 1px dotted black;border-radius: 0.25em;box-sizing: border-box;margin-bottom: 0.5em;}#sk-container-id-1 div.sk-estimator:hover {background-color: #d4ebff;}#sk-container-id-1 div.sk-parallel-item::after {content: \"\";width: 100%;border-bottom: 1px solid gray;flex-grow: 1;}#sk-container-id-1 div.sk-label:hover label.sk-toggleable__label {background-color: #d4ebff;}#sk-container-id-1 div.sk-serial::before {content: \"\";position: absolute;border-left: 1px solid gray;box-sizing: border-box;top: 0;bottom: 0;left: 50%;z-index: 0;}#sk-container-id-1 div.sk-serial {display: flex;flex-direction: column;align-items: center;background-color: white;padding-right: 0.2em;padding-left: 0.2em;position: relative;}#sk-container-id-1 div.sk-item {position: relative;z-index: 1;}#sk-container-id-1 div.sk-parallel {display: flex;align-items: stretch;justify-content: center;background-color: white;position: relative;}#sk-container-id-1 div.sk-item::before, #sk-container-id-1 div.sk-parallel-item::before {content: \"\";position: absolute;border-left: 1px solid gray;box-sizing: border-box;top: 0;bottom: 0;left: 50%;z-index: -1;}#sk-container-id-1 div.sk-parallel-item {display: flex;flex-direction: column;z-index: 1;position: relative;background-color: white;}#sk-container-id-1 div.sk-parallel-item:first-child::after {align-self: flex-end;width: 50%;}#sk-container-id-1 div.sk-parallel-item:last-child::after {align-self: flex-start;width: 50%;}#sk-container-id-1 div.sk-parallel-item:only-child::after {width: 0;}#sk-container-id-1 div.sk-dashed-wrapped {border: 1px dashed gray;margin: 0 0.4em 0.5em 0.4em;box-sizing: border-box;padding-bottom: 0.4em;background-color: white;}#sk-container-id-1 div.sk-label label {font-family: monospace;font-weight: bold;display: inline-block;line-height: 1.2em;}#sk-container-id-1 div.sk-label-container {text-align: center;}#sk-container-id-1 div.sk-container {/* jupyter's `normalize.less` sets `[hidden] { display: none; }` but bootstrap.min.css set `[hidden] { display: none !important; }` so we also need the `!important` here to be able to override the default hidden behavior on the sphinx rendered scikit-learn.org. See: https://github.com/scikit-learn/scikit-learn/issues/21755 */display: inline-block !important;position: relative;}#sk-container-id-1 div.sk-text-repr-fallback {display: none;}</style><div id=\"sk-container-id-1\" class=\"sk-top-container\"><div class=\"sk-text-repr-fallback\"><pre>LogisticRegression()</pre><b>In a Jupyter environment, please rerun this cell to show the HTML representation or trust the notebook. <br />On GitHub, the HTML representation is unable to render, please try loading this page with nbviewer.org.</b></div><div class=\"sk-container\" hidden><div class=\"sk-item\"><div class=\"sk-estimator sk-toggleable\"><input class=\"sk-toggleable__control sk-hidden--visually\" id=\"sk-estimator-id-1\" type=\"checkbox\" checked><label for=\"sk-estimator-id-1\" class=\"sk-toggleable__label sk-toggleable__label-arrow\">LogisticRegression</label><div class=\"sk-toggleable__content\"><pre>LogisticRegression()</pre></div></div></div></div></div>"
      ],
      "text/plain": [
       "LogisticRegression()"
      ]
     },
     "execution_count": 37,
     "metadata": {},
     "output_type": "execute_result"
    }
   ],
   "source": [
    "logreg.fit(X_train, y_train)"
   ]
  },
  {
   "cell_type": "code",
   "execution_count": 38,
   "metadata": {
    "_uuid": "cb970e550f7401bdc797e441fb809b8c51269c4f"
   },
   "outputs": [],
   "source": [
    "# Let's now use the model to predict the test features\n",
    "y_pred_class = logreg.predict(X_test)"
   ]
  },
  {
   "cell_type": "code",
   "execution_count": 39,
   "metadata": {
    "_uuid": "51f4f5374a3033c706e182e9d2cbeec6519a4790"
   },
   "outputs": [
    {
     "name": "stdout",
     "output_type": "stream",
     "text": [
      "accuracy =  0.7936\n"
     ]
    }
   ],
   "source": [
    "print('accuracy = {:7.4f}'.format(metrics.accuracy_score(y_test, y_pred_class)))"
   ]
  },
  {
   "cell_type": "markdown",
   "metadata": {
    "_uuid": "1b748e6256d5c2923176eef3aabb1a32e50a58e2"
   },
   "source": [
    "# So our model's accuracy in predicting buying visitors is around 79.46%"
   ]
  },
  {
   "cell_type": "code",
   "execution_count": 40,
   "metadata": {
    "_uuid": "f2a51c427e536f5216b37fabd006e950742df753"
   },
   "outputs": [
    {
     "data": {
      "image/png": "[encoded data removed]",
      "text/plain": [
       "<Figure size 640x480 with 1 Axes>"
      ]
     },
     "metadata": {},
     "output_type": "display_data"
    }
   ],
   "source": [
    "# Generate the prediction values for each of the test observations using predict_proba() function rather than just predict\n",
    "preds = logreg.predict_proba(X_test)[:,1]\n",
    "\n",
    "# Store the false positive rate(fpr), true positive rate (tpr) in vectors for use in the graph\n",
    "fpr, tpr, _ = metrics.roc_curve(y_test, preds)\n",
    "\n",
    "# Store the Area Under the Curve (AUC) so we can annotate our graph with theis metric\n",
    "roc_auc = metrics.auc(fpr, tpr)\n",
    "\n",
    "# Plot the ROC Curve\n",
    "plt.figure()\n",
    "lw = 2\n",
    "plt.plot(fpr, tpr, color='darkorange', lw = lw, label = 'ROC curve (area = %0.2f)' % roc_auc)\n",
    "plt.plot([0, 1], [0, 1], color = 'navy', lw = lw, linestyle = '--')\n",
    "plt.xlim([0.0, 1.0])\n",
    "plt.ylim([0.0, 1.05])\n",
    "plt.xlabel('False Positive Rate')\n",
    "plt.ylabel('True Positive Rate')\n",
    "plt.title('Receiver operating characteristic')\n",
    "plt.legend(loc = \"lower right\")\n",
    "plt.show()"
   ]
  },
  {
   "cell_type": "markdown",
   "metadata": {
    "_uuid": "0bfe9871fc860a7061e05ca975cbd760dcae3864"
   },
   "source": [
    "The graph above shows the accuracy of our binary classifier (Logistic Regression). Just means that the closer the orange curve leans to the top left hand part of the graph, the better the accuracy."
   ]
  },
  {
   "cell_type": "markdown",
   "metadata": {},
   "source": []
  },
  {
   "cell_type": "markdown",
   "metadata": {},
   "source": []
  },
  {
   "cell_type": "code",
   "execution_count": 41,
   "metadata": {},
   "outputs": [
    {
     "data": {
      "text/html": [
       "<div>\n",
       "<style scoped>\n",
       "    .dataframe tbody tr th:only-of-type {\n",
       "        vertical-align: middle;\n",
       "    }\n",
       "\n",
       "    .dataframe tbody tr th {\n",
       "        vertical-align: top;\n",
       "    }\n",
       "\n",
       "    .dataframe thead th {\n",
       "        text-align: right;\n",
       "    }\n",
       "</style>\n",
       "<table border=\"1\" class=\"dataframe\">\n",
       "  <thead>\n",
       "    <tr style=\"text-align: right;\">\n",
       "      <th></th>\n",
       "      <th>visitorid</th>\n",
       "      <th>num_items_viewed</th>\n",
       "      <th>view_count</th>\n",
       "      <th>bought_count</th>\n",
       "      <th>purchased</th>\n",
       "    </tr>\n",
       "  </thead>\n",
       "  <tbody>\n",
       "    <tr>\n",
       "      <th>0</th>\n",
       "      <td>172</td>\n",
       "      <td>22</td>\n",
       "      <td>33</td>\n",
       "      <td>2</td>\n",
       "      <td>1</td>\n",
       "    </tr>\n",
       "    <tr>\n",
       "      <th>1</th>\n",
       "      <td>186</td>\n",
       "      <td>1</td>\n",
       "      <td>2</td>\n",
       "      <td>1</td>\n",
       "      <td>1</td>\n",
       "    </tr>\n",
       "    <tr>\n",
       "      <th>2</th>\n",
       "      <td>264</td>\n",
       "      <td>2</td>\n",
       "      <td>3</td>\n",
       "      <td>2</td>\n",
       "      <td>1</td>\n",
       "    </tr>\n",
       "    <tr>\n",
       "      <th>3</th>\n",
       "      <td>419</td>\n",
       "      <td>3</td>\n",
       "      <td>4</td>\n",
       "      <td>1</td>\n",
       "      <td>1</td>\n",
       "    </tr>\n",
       "    <tr>\n",
       "      <th>4</th>\n",
       "      <td>539</td>\n",
       "      <td>1</td>\n",
       "      <td>4</td>\n",
       "      <td>1</td>\n",
       "      <td>1</td>\n",
       "    </tr>\n",
       "    <tr>\n",
       "      <th>...</th>\n",
       "      <td>...</td>\n",
       "      <td>...</td>\n",
       "      <td>...</td>\n",
       "      <td>...</td>\n",
       "      <td>...</td>\n",
       "    </tr>\n",
       "    <tr>\n",
       "      <th>11714</th>\n",
       "      <td>1406787</td>\n",
       "      <td>3</td>\n",
       "      <td>20</td>\n",
       "      <td>1</td>\n",
       "      <td>1</td>\n",
       "    </tr>\n",
       "    <tr>\n",
       "      <th>11715</th>\n",
       "      <td>1406981</td>\n",
       "      <td>4</td>\n",
       "      <td>4</td>\n",
       "      <td>1</td>\n",
       "      <td>1</td>\n",
       "    </tr>\n",
       "    <tr>\n",
       "      <th>11716</th>\n",
       "      <td>1407070</td>\n",
       "      <td>1</td>\n",
       "      <td>1</td>\n",
       "      <td>1</td>\n",
       "      <td>1</td>\n",
       "    </tr>\n",
       "    <tr>\n",
       "      <th>11717</th>\n",
       "      <td>1407110</td>\n",
       "      <td>2</td>\n",
       "      <td>7</td>\n",
       "      <td>1</td>\n",
       "      <td>1</td>\n",
       "    </tr>\n",
       "    <tr>\n",
       "      <th>11718</th>\n",
       "      <td>1407398</td>\n",
       "      <td>0</td>\n",
       "      <td>0</td>\n",
       "      <td>1</td>\n",
       "      <td>1</td>\n",
       "    </tr>\n",
       "  </tbody>\n",
       "</table>\n",
       "<p>11719 rows × 5 columns</p>\n",
       "</div>"
      ],
      "text/plain": [
       "       visitorid  num_items_viewed  view_count  bought_count  purchased\n",
       "0            172                22          33             2          1\n",
       "1            186                 1           2             1          1\n",
       "2            264                 2           3             2          1\n",
       "3            419                 3           4             1          1\n",
       "4            539                 1           4             1          1\n",
       "...          ...               ...         ...           ...        ...\n",
       "11714    1406787                 3          20             1          1\n",
       "11715    1406981                 4           4             1          1\n",
       "11716    1407070                 1           1             1          1\n",
       "11717    1407110                 2           7             1          1\n",
       "11718    1407398                 0           0             1          1\n",
       "\n",
       "[11719 rows x 5 columns]"
      ]
     },
     "execution_count": 41,
     "metadata": {},
     "output_type": "execute_result"
    }
   ],
   "source": [
    "buying_visitors_df"
   ]
  },
  {
   "cell_type": "code",
   "execution_count": null,
   "metadata": {},
   "outputs": [],
   "source": []
  }
 ],
 "metadata": {
  "kernelspec": {
   "display_name": "base",
   "language": "python",
   "name": "python3"
  },
  "language_info": {
   "codemirror_mode": {
    "name": "ipython",
    "version": 3
   },
   "file_extension": ".py",
   "mimetype": "text/x-python",
   "name": "python",
   "nbconvert_exporter": "python",
   "pygments_lexer": "ipython3",
   "version": "3.11.5"
  }
 },
 "nbformat": 4,
 "nbformat_minor": 1
}
